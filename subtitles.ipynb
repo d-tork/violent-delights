{
 "cells": [
  {
   "cell_type": "code",
   "execution_count": 117,
   "metadata": {},
   "outputs": [],
   "source": [
    "import chardet\n",
    "import pandas as pd\n",
    "import re\n",
    "from time import strptime"
   ]
  },
  {
   "cell_type": "code",
   "execution_count": 15,
   "metadata": {},
   "outputs": [
    {
     "name": "stdout",
     "output_type": "stream",
     "text": [
      "{'encoding': 'ISO-8859-1', 'confidence': 0.73, 'language': ''}\n"
     ]
    }
   ],
   "source": [
    "fpath = 'subtitles/Westworld - 2x01 - Journey Into Night.WEB.DEFLATE.en.srt'\n",
    "with open(fpath, 'rb') as rawdata:\n",
    "    result = chardet.detect(rawdata.read(100000))\n",
    "print(result)"
   ]
  },
  {
   "cell_type": "code",
   "execution_count": 128,
   "metadata": {},
   "outputs": [
    {
     "name": "stdout",
     "output_type": "stream",
     "text": [
      "subtitle_index 701\n",
      "start 701\n",
      "end 701\n",
      "text 701\n"
     ]
    }
   ],
   "source": [
    "subtitle_dict = {\n",
    "    'subtitle_index': [],\n",
    "    'start': [],\n",
    "    'end': [],\n",
    "    'text': []\n",
    "}\n",
    "\n",
    "fpath = 'subtitles/Westworld - 2x01 - Journey Into Night.WEB.DEFLATE.en.srt'\n",
    "with open(fpath, 'r', encoding='ISO-8859-1') as f:\n",
    "    text_accumulator = []  # gathers multi-line subtitles\n",
    "    for line in f:\n",
    "        index_match = re.match(r'([0-9]+)\\n', line)\n",
    "        newline_match = re.fullmatch(r'\\n', line)\n",
    "        \n",
    "        if index_match:\n",
    "            # line is subtitle index\n",
    "            index_int = int(index_match.group(1))\n",
    "            subtitle_dict['subtitle_index'].append(index_int)\n",
    "        elif re.search(r'-->', line):\n",
    "            try:\n",
    "                start, end = re.findall(r'([0-9]{2}:[0-9]{2}:[0-9]{1,2},[0-9]{2,3})', line)\n",
    "            except ValueError:\n",
    "                print(line)\n",
    "            #subtitle_dict['start'].append(strptime(start, '%H:%M:%S,%f'))\n",
    "            #subtitle_dict['end'].append(strptime(end, '%H:%M:%S,%f'))\n",
    "            subtitle_dict['start'].append(start)\n",
    "            subtitle_dict['end'].append(end)\n",
    "        elif newline_match:\n",
    "            # blank line between subtitles\n",
    "            full_subtitle = ' '.join(text_accumulator)\n",
    "            subtitle_dict['text'].append(full_subtitle)\n",
    "            text_accumulator = []  # reset accumulator\n",
    "        else:\n",
    "            # text of the dialogue\n",
    "            text_accumulator.append(line.strip())\n",
    "    # Save the text contents of the last loop\n",
    "    full_subtitle = ' '.join(text_accumulator)\n",
    "    subtitle_dict['text'].append(full_subtitle)\n",
    "            \n",
    "for k, v in subtitle_dict.items():\n",
    "    print(k, len(v))"
   ]
  },
  {
   "cell_type": "code",
   "execution_count": 102,
   "metadata": {},
   "outputs": [
    {
     "data": {
      "text/plain": [
       "'Welcome to Westworld.'"
      ]
     },
     "execution_count": 102,
     "metadata": {},
     "output_type": "execute_result"
    }
   ],
   "source": [
    "all_lines[6].strip()"
   ]
  },
  {
   "cell_type": "code",
   "execution_count": 129,
   "metadata": {},
   "outputs": [
    {
     "data": {
      "text/html": [
       "<div>\n",
       "<style scoped>\n",
       "    .dataframe tbody tr th:only-of-type {\n",
       "        vertical-align: middle;\n",
       "    }\n",
       "\n",
       "    .dataframe tbody tr th {\n",
       "        vertical-align: top;\n",
       "    }\n",
       "\n",
       "    .dataframe thead th {\n",
       "        text-align: right;\n",
       "    }\n",
       "</style>\n",
       "<table border=\"1\" class=\"dataframe\">\n",
       "  <thead>\n",
       "    <tr style=\"text-align: right;\">\n",
       "      <th></th>\n",
       "      <th>subtitle_index</th>\n",
       "      <th>start</th>\n",
       "      <th>end</th>\n",
       "      <th>text</th>\n",
       "    </tr>\n",
       "  </thead>\n",
       "  <tbody>\n",
       "    <tr>\n",
       "      <th>0</th>\n",
       "      <td>1</td>\n",
       "      <td>00:00:00,018</td>\n",
       "      <td>00:00:01,251</td>\n",
       "      <td>_</td>\n",
       "    </tr>\n",
       "    <tr>\n",
       "      <th>1</th>\n",
       "      <td>2</td>\n",
       "      <td>00:00:01,254</td>\n",
       "      <td>00:00:02,802</td>\n",
       "      <td>Welcome to Westworld.</td>\n",
       "    </tr>\n",
       "    <tr>\n",
       "      <th>2</th>\n",
       "      <td>3</td>\n",
       "      <td>00:00:02,805</td>\n",
       "      <td>00:00:04,262</td>\n",
       "      <td>Which would you prefer?</td>\n",
       "    </tr>\n",
       "    <tr>\n",
       "      <th>3</th>\n",
       "      <td>4</td>\n",
       "      <td>00:00:05,262</td>\n",
       "      <td>00:00:07,303</td>\n",
       "      <td>This place is the answer</td>\n",
       "    </tr>\n",
       "    <tr>\n",
       "      <th>4</th>\n",
       "      <td>5</td>\n",
       "      <td>00:00:07,304</td>\n",
       "      <td>00:00:09,590</td>\n",
       "      <td>to that question that you've been asking yours...</td>\n",
       "    </tr>\n",
       "  </tbody>\n",
       "</table>\n",
       "</div>"
      ],
      "text/plain": [
       "   subtitle_index         start           end  \\\n",
       "0               1  00:00:00,018  00:00:01,251   \n",
       "1               2  00:00:01,254  00:00:02,802   \n",
       "2               3  00:00:02,805  00:00:04,262   \n",
       "3               4  00:00:05,262  00:00:07,303   \n",
       "4               5  00:00:07,304  00:00:09,590   \n",
       "\n",
       "                                                text  \n",
       "0                                                  _  \n",
       "1                              Welcome to Westworld.  \n",
       "2                            Which would you prefer?  \n",
       "3                           This place is the answer  \n",
       "4  to that question that you've been asking yours...  "
      ]
     },
     "execution_count": 129,
     "metadata": {},
     "output_type": "execute_result"
    }
   ],
   "source": [
    "df = pd.DataFrame.from_dict(subtitle_dict)\n",
    "df.head()"
   ]
  },
  {
   "cell_type": "code",
   "execution_count": 133,
   "metadata": {},
   "outputs": [],
   "source": [
    "for col in ['start', 'end']:\n",
    "    df[col] = pd.to_datetime(df[col], format='%H:%M:%S,%f').dt.time"
   ]
  },
  {
   "cell_type": "code",
   "execution_count": 137,
   "metadata": {},
   "outputs": [],
   "source": [
    "# Drop font color rows\n",
    "df = df.drop(index=df.loc[df.text.str.contains('<font')].index)"
   ]
  },
  {
   "cell_type": "code",
   "execution_count": 138,
   "metadata": {},
   "outputs": [
    {
     "data": {
      "text/html": [
       "<div>\n",
       "<style scoped>\n",
       "    .dataframe tbody tr th:only-of-type {\n",
       "        vertical-align: middle;\n",
       "    }\n",
       "\n",
       "    .dataframe tbody tr th {\n",
       "        vertical-align: top;\n",
       "    }\n",
       "\n",
       "    .dataframe thead th {\n",
       "        text-align: right;\n",
       "    }\n",
       "</style>\n",
       "<table border=\"1\" class=\"dataframe\">\n",
       "  <thead>\n",
       "    <tr style=\"text-align: right;\">\n",
       "      <th></th>\n",
       "      <th>subtitle_index</th>\n",
       "      <th>start</th>\n",
       "      <th>end</th>\n",
       "      <th>text</th>\n",
       "    </tr>\n",
       "  </thead>\n",
       "  <tbody>\n",
       "    <tr>\n",
       "      <th>0</th>\n",
       "      <td>1</td>\n",
       "      <td>00:00:00.018000</td>\n",
       "      <td>00:00:01.251000</td>\n",
       "      <td>_</td>\n",
       "    </tr>\n",
       "    <tr>\n",
       "      <th>1</th>\n",
       "      <td>2</td>\n",
       "      <td>00:00:01.254000</td>\n",
       "      <td>00:00:02.802000</td>\n",
       "      <td>Welcome to Westworld.</td>\n",
       "    </tr>\n",
       "    <tr>\n",
       "      <th>2</th>\n",
       "      <td>3</td>\n",
       "      <td>00:00:02.805000</td>\n",
       "      <td>00:00:04.262000</td>\n",
       "      <td>Which would you prefer?</td>\n",
       "    </tr>\n",
       "    <tr>\n",
       "      <th>3</th>\n",
       "      <td>4</td>\n",
       "      <td>00:00:05.262000</td>\n",
       "      <td>00:00:07.303000</td>\n",
       "      <td>This place is the answer</td>\n",
       "    </tr>\n",
       "    <tr>\n",
       "      <th>4</th>\n",
       "      <td>5</td>\n",
       "      <td>00:00:07.304000</td>\n",
       "      <td>00:00:09.590000</td>\n",
       "      <td>to that question that you've been asking yours...</td>\n",
       "    </tr>\n",
       "    <tr>\n",
       "      <th>...</th>\n",
       "      <td>...</td>\n",
       "      <td>...</td>\n",
       "      <td>...</td>\n",
       "      <td>...</td>\n",
       "    </tr>\n",
       "    <tr>\n",
       "      <th>694</th>\n",
       "      <td>695</td>\n",
       "      <td>01:11:33.979000</td>\n",
       "      <td>01:11:36.354000</td>\n",
       "      <td>which means I need yours.</td>\n",
       "    </tr>\n",
       "    <tr>\n",
       "      <th>695</th>\n",
       "      <td>696</td>\n",
       "      <td>01:11:38.081000</td>\n",
       "      <td>01:11:40.089000</td>\n",
       "      <td>Can you tell me what happened?</td>\n",
       "    </tr>\n",
       "    <tr>\n",
       "      <th>696</th>\n",
       "      <td>697</td>\n",
       "      <td>01:11:58.730000</td>\n",
       "      <td>01:12:01.831000</td>\n",
       "      <td>I...</td>\n",
       "    </tr>\n",
       "    <tr>\n",
       "      <th>697</th>\n",
       "      <td>698</td>\n",
       "      <td>01:12:01.834000</td>\n",
       "      <td>01:12:03.831000</td>\n",
       "      <td>I killed them.</td>\n",
       "    </tr>\n",
       "    <tr>\n",
       "      <th>698</th>\n",
       "      <td>699</td>\n",
       "      <td>01:12:07.062000</td>\n",
       "      <td>01:12:08.937000</td>\n",
       "      <td>All of them.</td>\n",
       "    </tr>\n",
       "  </tbody>\n",
       "</table>\n",
       "<p>698 rows × 4 columns</p>\n",
       "</div>"
      ],
      "text/plain": [
       "     subtitle_index            start              end  \\\n",
       "0                 1  00:00:00.018000  00:00:01.251000   \n",
       "1                 2  00:00:01.254000  00:00:02.802000   \n",
       "2                 3  00:00:02.805000  00:00:04.262000   \n",
       "3                 4  00:00:05.262000  00:00:07.303000   \n",
       "4                 5  00:00:07.304000  00:00:09.590000   \n",
       "..              ...              ...              ...   \n",
       "694             695  01:11:33.979000  01:11:36.354000   \n",
       "695             696  01:11:38.081000  01:11:40.089000   \n",
       "696             697  01:11:58.730000  01:12:01.831000   \n",
       "697             698  01:12:01.834000  01:12:03.831000   \n",
       "698             699  01:12:07.062000  01:12:08.937000   \n",
       "\n",
       "                                                  text  \n",
       "0                                                    _  \n",
       "1                                Welcome to Westworld.  \n",
       "2                              Which would you prefer?  \n",
       "3                             This place is the answer  \n",
       "4    to that question that you've been asking yours...  \n",
       "..                                                 ...  \n",
       "694                          which means I need yours.  \n",
       "695                     Can you tell me what happened?  \n",
       "696                                               I...  \n",
       "697                                     I killed them.  \n",
       "698                                       All of them.  \n",
       "\n",
       "[698 rows x 4 columns]"
      ]
     },
     "execution_count": 138,
     "metadata": {},
     "output_type": "execute_result"
    }
   ],
   "source": [
    "df"
   ]
  }
 ],
 "metadata": {
  "kernelspec": {
   "display_name": "Python 3",
   "language": "python",
   "name": "python3"
  },
  "language_info": {
   "codemirror_mode": {
    "name": "ipython",
    "version": 3
   },
   "file_extension": ".py",
   "mimetype": "text/x-python",
   "name": "python",
   "nbconvert_exporter": "python",
   "pygments_lexer": "ipython3",
   "version": "3.7.4"
  }
 },
 "nbformat": 4,
 "nbformat_minor": 4
}

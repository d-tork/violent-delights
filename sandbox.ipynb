{
 "cells": [
  {
   "cell_type": "markdown",
   "metadata": {},
   "source": [
    "# Westworld character network\n",
    "\n",
    "## Quality issues\n",
    "* The wiki contains pages on the 70s movies and 80s TV series, not just HBO's. Collect those IDs and exclude them from the dataset (_carefully_, in case any names are re-used)\n",
    "* Categories (like \"Antagonists\") are included in the API request for character pages. Drop any that have \"Category\" in their url"
   ]
  },
  {
   "cell_type": "code",
   "execution_count": 1,
   "metadata": {},
   "outputs": [],
   "source": [
    "import pandas as pd\n",
    "import requests\n",
    "import json\n",
    "from xml.etree import ElementTree\n",
    "\n",
    "import networkx as nx\n",
    "import matplotlib.pyplot as plt"
   ]
  },
  {
   "cell_type": "markdown",
   "metadata": {},
   "source": [
    "## Get node names and ids\n",
    "The wiki IDs will be used to access the individual article for that node"
   ]
  },
  {
   "cell_type": "code",
   "execution_count": 2,
   "metadata": {},
   "outputs": [],
   "source": [
    "chars_request = requests.get('https://westworld.fandom.com/api/v1/Articles/List?expand=1&category=Characters&limit=200').json()['items']\n",
    "chars = [dict(id=x['id'], name=x['title'], url=x['url']) for x in chars_request]"
   ]
  },
  {
   "cell_type": "code",
   "execution_count": 3,
   "metadata": {},
   "outputs": [],
   "source": [
    "loc_request = requests.get('https://westworld.fandom.com/api/v1/Articles/List?expand=1&category=Locations&limit=200').json()['items']\n",
    "locs = [dict(id=x['id'], name=x['title'], url=x['url']) for x in loc_request]"
   ]
  },
  {
   "cell_type": "code",
   "execution_count": 4,
   "metadata": {},
   "outputs": [],
   "source": [
    "tech_request = requests.get('https://westworld.fandom.com/api/v1/Articles/List?expand=1&category=Technology&limit=200').json()['items']\n",
    "tech = [dict(id=x['id'], name=x['title'], url=x['url']) for x in tech_request]"
   ]
  },
  {
   "cell_type": "code",
   "execution_count": 5,
   "metadata": {},
   "outputs": [],
   "source": [
    "park_request = requests.get('https://westworld.fandom.com/api/v1/Articles/List?expand=1&category=Park management&limit=200').json()['items']\n",
    "parks = [dict(id=x['id'], name=x['title'], url=x['url']) for x in park_request]"
   ]
  },
  {
   "cell_type": "markdown",
   "metadata": {},
   "source": [
    "## Collect structured relationships from articles\n",
    "Most people's articles have a 'Relationships' section, where sub-headings are other charactes"
   ]
  },
  {
   "cell_type": "code",
   "execution_count": 6,
   "metadata": {},
   "outputs": [
    {
     "data": {
      "text/plain": [
       "['Dolores Abernathy', 'Robert Ford']"
      ]
     },
     "execution_count": 6,
     "metadata": {},
     "output_type": "execute_result"
    }
   ],
   "source": [
    "# Test the relationships scraper on single person\n",
    "arnold = [x for x in chars if x['id'] == 2764][0]\n",
    "page_sections = requests.get(f\"https://westworld.fandom.com/api/v1/Articles/AsSimpleJson?id={arnold['id']}\").json()['sections']\n",
    "\n",
    "# Get Relationships sections\n",
    "rel_section = [x for x in page_sections if x['title'] == 'Relationships'][0]\n",
    "rel_section_start = page_sections.index(rel_section) + 1\n",
    "rel_next_section = [x for x in page_sections[rel_section_start:] if x['level'] == 2][0]\n",
    "rel_section_end = page_sections.index(rel_next_section)\n",
    "\n",
    "links = [sec['title'] for sec in page_sections[rel_section_start:rel_section_end]]\n",
    "links"
   ]
  },
  {
   "cell_type": "code",
   "execution_count": 7,
   "metadata": {},
   "outputs": [],
   "source": [
    "def get_links(char_dict):\n",
    "    page_sections = requests.get(f\"https://westworld.fandom.com/api/v1/Articles/AsSimpleJson?id={char_dict['id']}\").json()['sections']\n",
    "\n",
    "    # Get Relationships sections\n",
    "    try:\n",
    "        rel_section = [x for x in page_sections if x['title'] == 'Relationships'][0]\n",
    "        rel_section_start = page_sections.index(rel_section) + 1\n",
    "        rel_next_section = [x for x in page_sections[rel_section_start:] if x['level'] == 2][0]\n",
    "        rel_section_end = page_sections.index(rel_next_section)\n",
    "    except IndexError:  # no relationships, forever alone\n",
    "        return None\n",
    "\n",
    "    links = [sec['title'] for sec in page_sections[rel_section_start:rel_section_end]]\n",
    "    if links:\n",
    "        return links\n",
    "    else:  # sometimes the Relationships section exists, but it's empty\n",
    "        return None\n",
    "    "
   ]
  },
  {
   "cell_type": "code",
   "execution_count": 8,
   "metadata": {},
   "outputs": [],
   "source": [
    "for character in chars:\n",
    "    character['links'] = get_links(character)"
   ]
  },
  {
   "cell_type": "code",
   "execution_count": 9,
   "metadata": {},
   "outputs": [
    {
     "data": {
      "text/plain": [
       "{'id': 2764,\n",
       " 'name': 'Arnold Weber',\n",
       " 'url': '/wiki/Arnold_Weber',\n",
       " 'links': ['Dolores Abernathy', 'Robert Ford']}"
      ]
     },
     "execution_count": 9,
     "metadata": {},
     "output_type": "execute_result"
    }
   ],
   "source": [
    "chars[6]"
   ]
  },
  {
   "cell_type": "markdown",
   "metadata": {},
   "source": [
    "## Labeling hosts and humans"
   ]
  },
  {
   "cell_type": "code",
   "execution_count": 10,
   "metadata": {},
   "outputs": [],
   "source": [
    "# Add label to character dictionaries\n",
    "\n",
    "def add_species_label(char_dict):\n",
    "    \"\"\"Add is_host and is_human keys to character dictionary.\"\"\"\n",
    "    # Get names from wiki category\n",
    "    hosts_request = requests.get('https://westworld.fandom.com/api/v1/Articles/List?expand=1&category=Hosts&limit=200').json()['items']\n",
    "    humans_request = requests.get('https://westworld.fandom.com/api/v1/Articles/List?expand=1&category=Human&limit=200').json()['items']\n",
    "    hosts = [x['id'] for x in hosts_request]\n",
    "    humans = [x['id'] for x in humans_request]\n",
    "    \n",
    "    for char in char_dict:\n",
    "        char['is_host'] = char['id'] in hosts\n",
    "        char['is_human'] = char['id'] in humans\n",
    "\n",
    "add_species_label(chars)"
   ]
  },
  {
   "cell_type": "code",
   "execution_count": 13,
   "metadata": {},
   "outputs": [
    {
     "data": {
      "text/html": [
       "<div>\n",
       "<style scoped>\n",
       "    .dataframe tbody tr th:only-of-type {\n",
       "        vertical-align: middle;\n",
       "    }\n",
       "\n",
       "    .dataframe tbody tr th {\n",
       "        vertical-align: top;\n",
       "    }\n",
       "\n",
       "    .dataframe thead th {\n",
       "        text-align: right;\n",
       "    }\n",
       "</style>\n",
       "<table border=\"1\" class=\"dataframe\">\n",
       "  <thead>\n",
       "    <tr style=\"text-align: right;\">\n",
       "      <th></th>\n",
       "      <th>name</th>\n",
       "      <th>url</th>\n",
       "      <th>links</th>\n",
       "      <th>is_host</th>\n",
       "      <th>is_human</th>\n",
       "    </tr>\n",
       "    <tr>\n",
       "      <th>id</th>\n",
       "      <th></th>\n",
       "      <th></th>\n",
       "      <th></th>\n",
       "      <th></th>\n",
       "      <th></th>\n",
       "    </tr>\n",
       "  </thead>\n",
       "  <tbody>\n",
       "    <tr>\n",
       "      <th>11482</th>\n",
       "      <td>Ash</td>\n",
       "      <td>/wiki/Ash</td>\n",
       "      <td>None</td>\n",
       "      <td>False</td>\n",
       "      <td>False</td>\n",
       "    </tr>\n",
       "    <tr>\n",
       "      <th>11639</th>\n",
       "      <td>Benny</td>\n",
       "      <td>/wiki/Benny</td>\n",
       "      <td>None</td>\n",
       "      <td>False</td>\n",
       "      <td>False</td>\n",
       "    </tr>\n",
       "    <tr>\n",
       "      <th>11097</th>\n",
       "      <td>Caleb Nichols</td>\n",
       "      <td>/wiki/Caleb_Nichols</td>\n",
       "      <td>None</td>\n",
       "      <td>False</td>\n",
       "      <td>False</td>\n",
       "    </tr>\n",
       "    <tr>\n",
       "      <th>3190</th>\n",
       "      <td>Eye Patch</td>\n",
       "      <td>/wiki/Eye_Patch</td>\n",
       "      <td>None</td>\n",
       "      <td>False</td>\n",
       "      <td>False</td>\n",
       "    </tr>\n",
       "    <tr>\n",
       "      <th>11133</th>\n",
       "      <td>Francis</td>\n",
       "      <td>/wiki/Francis</td>\n",
       "      <td>None</td>\n",
       "      <td>False</td>\n",
       "      <td>False</td>\n",
       "    </tr>\n",
       "    <tr>\n",
       "      <th>11104</th>\n",
       "      <td>George</td>\n",
       "      <td>/wiki/George</td>\n",
       "      <td>None</td>\n",
       "      <td>False</td>\n",
       "      <td>False</td>\n",
       "    </tr>\n",
       "    <tr>\n",
       "      <th>7008</th>\n",
       "      <td>Grace</td>\n",
       "      <td>/wiki/Grace</td>\n",
       "      <td>None</td>\n",
       "      <td>False</td>\n",
       "      <td>False</td>\n",
       "    </tr>\n",
       "    <tr>\n",
       "      <th>11055</th>\n",
       "      <td>Irene Gerhart</td>\n",
       "      <td>/wiki/Irene_Gerhart</td>\n",
       "      <td>None</td>\n",
       "      <td>False</td>\n",
       "      <td>False</td>\n",
       "    </tr>\n",
       "    <tr>\n",
       "      <th>8563</th>\n",
       "      <td>Ivan</td>\n",
       "      <td>/wiki/Ivan</td>\n",
       "      <td>None</td>\n",
       "      <td>False</td>\n",
       "      <td>False</td>\n",
       "    </tr>\n",
       "    <tr>\n",
       "      <th>5412</th>\n",
       "      <td>John Blane (1973)</td>\n",
       "      <td>/wiki/John_Blane_(1973)</td>\n",
       "      <td>None</td>\n",
       "      <td>False</td>\n",
       "      <td>False</td>\n",
       "    </tr>\n",
       "    <tr>\n",
       "      <th>2728</th>\n",
       "      <td>Lauren</td>\n",
       "      <td>/wiki/Lauren</td>\n",
       "      <td>[Bernard Lowe]</td>\n",
       "      <td>False</td>\n",
       "      <td>False</td>\n",
       "    </tr>\n",
       "    <tr>\n",
       "      <th>11082</th>\n",
       "      <td>Sauer</td>\n",
       "      <td>/wiki/Sauer</td>\n",
       "      <td>None</td>\n",
       "      <td>False</td>\n",
       "      <td>False</td>\n",
       "    </tr>\n",
       "    <tr>\n",
       "      <th>3196</th>\n",
       "      <td>Shy Guest</td>\n",
       "      <td>/wiki/Shy_Guest</td>\n",
       "      <td>None</td>\n",
       "      <td>False</td>\n",
       "      <td>False</td>\n",
       "    </tr>\n",
       "    <tr>\n",
       "      <th>3188</th>\n",
       "      <td>Stewardess</td>\n",
       "      <td>/wiki/Stewardess</td>\n",
       "      <td>None</td>\n",
       "      <td>False</td>\n",
       "      <td>False</td>\n",
       "    </tr>\n",
       "    <tr>\n",
       "      <th>10778</th>\n",
       "      <td>The Gunfighter (1980)</td>\n",
       "      <td>/wiki/The_Gunfighter_(1980)</td>\n",
       "      <td>None</td>\n",
       "      <td>False</td>\n",
       "      <td>False</td>\n",
       "    </tr>\n",
       "    <tr>\n",
       "      <th>2247</th>\n",
       "      <td>The Gunslinger (1973)</td>\n",
       "      <td>/wiki/The_Gunslinger_(1973)</td>\n",
       "      <td>None</td>\n",
       "      <td>False</td>\n",
       "      <td>False</td>\n",
       "    </tr>\n",
       "    <tr>\n",
       "      <th>3218</th>\n",
       "      <td>Androids</td>\n",
       "      <td>/wiki/Category:Androids</td>\n",
       "      <td>None</td>\n",
       "      <td>False</td>\n",
       "      <td>False</td>\n",
       "    </tr>\n",
       "    <tr>\n",
       "      <th>3907</th>\n",
       "      <td>Antagonists</td>\n",
       "      <td>/wiki/Category:Antagonists</td>\n",
       "      <td>None</td>\n",
       "      <td>False</td>\n",
       "      <td>False</td>\n",
       "    </tr>\n",
       "    <tr>\n",
       "      <th>10489</th>\n",
       "      <td>Delos Staff</td>\n",
       "      <td>/wiki/Category:Delos_Staff</td>\n",
       "      <td>None</td>\n",
       "      <td>False</td>\n",
       "      <td>False</td>\n",
       "    </tr>\n",
       "    <tr>\n",
       "      <th>3720</th>\n",
       "      <td>Female characters</td>\n",
       "      <td>/wiki/Category:Female_characters</td>\n",
       "      <td>None</td>\n",
       "      <td>False</td>\n",
       "      <td>False</td>\n",
       "    </tr>\n",
       "    <tr>\n",
       "      <th>3026</th>\n",
       "      <td>Guests</td>\n",
       "      <td>/wiki/Category:Guests</td>\n",
       "      <td>None</td>\n",
       "      <td>False</td>\n",
       "      <td>False</td>\n",
       "    </tr>\n",
       "    <tr>\n",
       "      <th>2420</th>\n",
       "      <td>Hosts</td>\n",
       "      <td>/wiki/Category:Hosts</td>\n",
       "      <td>None</td>\n",
       "      <td>False</td>\n",
       "      <td>False</td>\n",
       "    </tr>\n",
       "    <tr>\n",
       "      <th>9277</th>\n",
       "      <td>Human</td>\n",
       "      <td>/wiki/Category:Human</td>\n",
       "      <td>None</td>\n",
       "      <td>False</td>\n",
       "      <td>False</td>\n",
       "    </tr>\n",
       "    <tr>\n",
       "      <th>3899</th>\n",
       "      <td>Main characters</td>\n",
       "      <td>/wiki/Category:Main_characters</td>\n",
       "      <td>None</td>\n",
       "      <td>False</td>\n",
       "      <td>False</td>\n",
       "    </tr>\n",
       "    <tr>\n",
       "      <th>3718</th>\n",
       "      <td>Male characters</td>\n",
       "      <td>/wiki/Category:Male_characters</td>\n",
       "      <td>None</td>\n",
       "      <td>False</td>\n",
       "      <td>False</td>\n",
       "    </tr>\n",
       "    <tr>\n",
       "      <th>10671</th>\n",
       "      <td>Narrative faction</td>\n",
       "      <td>/wiki/Category:Narrative_faction</td>\n",
       "      <td>None</td>\n",
       "      <td>False</td>\n",
       "      <td>False</td>\n",
       "    </tr>\n",
       "    <tr>\n",
       "      <th>2982</th>\n",
       "      <td>Westworld Staff</td>\n",
       "      <td>/wiki/Category:Westworld_Staff</td>\n",
       "      <td>None</td>\n",
       "      <td>False</td>\n",
       "      <td>False</td>\n",
       "    </tr>\n",
       "  </tbody>\n",
       "</table>\n",
       "</div>"
      ],
      "text/plain": [
       "                        name                               url  \\\n",
       "id                                                               \n",
       "11482                    Ash                         /wiki/Ash   \n",
       "11639                  Benny                       /wiki/Benny   \n",
       "11097          Caleb Nichols               /wiki/Caleb_Nichols   \n",
       "3190               Eye Patch                   /wiki/Eye_Patch   \n",
       "11133                Francis                     /wiki/Francis   \n",
       "11104                 George                      /wiki/George   \n",
       "7008                   Grace                       /wiki/Grace   \n",
       "11055          Irene Gerhart               /wiki/Irene_Gerhart   \n",
       "8563                    Ivan                        /wiki/Ivan   \n",
       "5412       John Blane (1973)           /wiki/John_Blane_(1973)   \n",
       "2728                  Lauren                      /wiki/Lauren   \n",
       "11082                  Sauer                       /wiki/Sauer   \n",
       "3196               Shy Guest                   /wiki/Shy_Guest   \n",
       "3188              Stewardess                  /wiki/Stewardess   \n",
       "10778  The Gunfighter (1980)       /wiki/The_Gunfighter_(1980)   \n",
       "2247   The Gunslinger (1973)       /wiki/The_Gunslinger_(1973)   \n",
       "3218                Androids           /wiki/Category:Androids   \n",
       "3907             Antagonists        /wiki/Category:Antagonists   \n",
       "10489            Delos Staff        /wiki/Category:Delos_Staff   \n",
       "3720       Female characters  /wiki/Category:Female_characters   \n",
       "3026                  Guests             /wiki/Category:Guests   \n",
       "2420                   Hosts              /wiki/Category:Hosts   \n",
       "9277                   Human              /wiki/Category:Human   \n",
       "3899         Main characters    /wiki/Category:Main_characters   \n",
       "3718         Male characters    /wiki/Category:Male_characters   \n",
       "10671      Narrative faction  /wiki/Category:Narrative_faction   \n",
       "2982         Westworld Staff    /wiki/Category:Westworld_Staff   \n",
       "\n",
       "                links  is_host  is_human  \n",
       "id                                        \n",
       "11482            None    False     False  \n",
       "11639            None    False     False  \n",
       "11097            None    False     False  \n",
       "3190             None    False     False  \n",
       "11133            None    False     False  \n",
       "11104            None    False     False  \n",
       "7008             None    False     False  \n",
       "11055            None    False     False  \n",
       "8563             None    False     False  \n",
       "5412             None    False     False  \n",
       "2728   [Bernard Lowe]    False     False  \n",
       "11082            None    False     False  \n",
       "3196             None    False     False  \n",
       "3188             None    False     False  \n",
       "10778            None    False     False  \n",
       "2247             None    False     False  \n",
       "3218             None    False     False  \n",
       "3907             None    False     False  \n",
       "10489            None    False     False  \n",
       "3720             None    False     False  \n",
       "3026             None    False     False  \n",
       "2420             None    False     False  \n",
       "9277             None    False     False  \n",
       "3899             None    False     False  \n",
       "3718             None    False     False  \n",
       "10671            None    False     False  \n",
       "2982             None    False     False  "
      ]
     },
     "execution_count": 13,
     "metadata": {},
     "output_type": "execute_result"
    }
   ],
   "source": [
    "df = pd.DataFrame.from_dict(chars).set_index('id')\n",
    "df.loc[~df.is_host & ~df.is_human]"
   ]
  },
  {
   "cell_type": "markdown",
   "metadata": {},
   "source": [
    "## Scraping for additional details"
   ]
  },
  {
   "cell_type": "code",
   "execution_count": 162,
   "metadata": {},
   "outputs": [
    {
     "name": "stdout",
     "output_type": "stream",
     "text": [
      "<Element '{http://www.mediawiki.org/xml/export-0.10/}mediawiki' at 0xa2741ea10>\n"
     ]
    }
   ],
   "source": [
    "# Request XML of full wiki page\n",
    "# Using Arnold as an example\n",
    "\n",
    "def construct_xml_url(char_dict):\n",
    "    \"\"\"Get the URL for the XML export of a wiki page.\"\"\"\n",
    "    base_url = 'https://westworld.fandom.com'\n",
    "    url_str = char_dict['url'].split('/')\n",
    "    url_str.insert(2, 'Special:Export')\n",
    "    url_str = '/'.join(url_str)\n",
    "    url_str = base_url + url_str\n",
    "    return url_str\n",
    "\n",
    "char_url = construct_xml_url(arnold)\n",
    "response = requests.get(char_url)\n",
    "tree = ElementTree.fromstring(response.content)\n",
    "print(tree)"
   ]
  },
  {
   "cell_type": "markdown",
   "metadata": {},
   "source": [
    "## Network graph"
   ]
  },
  {
   "cell_type": "code",
   "execution_count": 32,
   "metadata": {},
   "outputs": [],
   "source": [
    "G = nx.Graph()\n",
    "char_nodes = [x['name'] for x in chars]\n",
    "char_nodes_lite = [x['name'] for x in chars if x['links']]\n",
    "G.add_nodes_from(char_nodes_lite)"
   ]
  },
  {
   "cell_type": "code",
   "execution_count": 33,
   "metadata": {},
   "outputs": [],
   "source": [
    "# Edges\n",
    "# must be a list of tuples of 2 character names [('Ford', 'Arnold'), ('Arnold', 'Bernard')]\n",
    "\n",
    "def link_gen(char_dict_list):\n",
    "    \"\"\"A generator which creates link tuples.\"\"\"\n",
    "    for character in char_dict_list:\n",
    "        if not character['links']:\n",
    "            continue\n",
    "        for link in character['links']:\n",
    "            yield (character['name'], link)\n",
    "            \n",
    "char_links = [x for x in link_gen(chars)]\n",
    "G.add_edges_from(char_links)"
   ]
  },
  {
   "cell_type": "code",
   "execution_count": 35,
   "metadata": {},
   "outputs": [
    {
     "data": {
      "image/png": "[encoded data removed]",
      "text/plain": [
       "<Figure size 1080x1080 with 1 Axes>"
      ]
     },
     "metadata": {},
     "output_type": "display_data"
    }
   ],
   "source": [
    "# Draw the graph\n",
    "plt.figure(figsize=(15, 15))\n",
    "plt.subplot(111)\n",
    "nx.draw(\n",
    "    G, \n",
    "    with_labels=True,\n",
    "    nodelist=[x['name'] for x in chars if x['links']],  # only ones with relationships\n",
    "    node_size=150,\n",
    "    alpha=0.75,\n",
    "    label='Westworld Characters'\n",
    ")"
   ]
  },
  {
   "cell_type": "code",
   "execution_count": null,
   "metadata": {},
   "outputs": [],
   "source": []
  }
 ],
 "metadata": {
  "kernelspec": {
   "display_name": "Python 3",
   "language": "python",
   "name": "python3"
  },
  "language_info": {
   "codemirror_mode": {
    "name": "ipython",
    "version": 3
   },
   "file_extension": ".py",
   "mimetype": "text/x-python",
   "name": "python",
   "nbconvert_exporter": "python",
   "pygments_lexer": "ipython3",
   "version": "3.7.4"
  }
 },
 "nbformat": 4,
 "nbformat_minor": 4
}
